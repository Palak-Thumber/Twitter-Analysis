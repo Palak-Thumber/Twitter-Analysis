{
 "cells": [
  {
   "cell_type": "code",
   "execution_count": 26,
   "id": "d1bddd03-2073-4bd2-a92d-0cc7537667d4",
   "metadata": {},
   "outputs": [
    {
     "name": "stdout",
     "output_type": "stream",
     "text": [
      "✅ TASK 1 DATA READY: (0, 7)\n"
     ]
    }
   ],
   "source": [
    "import pandas as pd\n",
    "import numpy as np\n",
    "\n",
    "df = pd.read_excel(\"Tweet.xlsx\")\n",
    "\n",
    "df['time'] = pd.to_datetime(df['time'], errors='coerce')\n",
    "\n",
    "df[\"Word_Count\"] = df[\"Tweet\"].apply(lambda x: len(str(x).split()))\n",
    "df[\"Char_Count\"] = df[\"Tweet\"].apply(lambda x: len(str(x)))\n",
    "\n",
    "df[\"Hour\"] = df[\"time\"].dt.hour\n",
    "df[\"Day\"] = df[\"time\"].dt.day\n",
    "df[\"Month\"] = df[\"time\"].dt.month\n",
    "df[\"Weekday\"] = df[\"time\"].dt.day_name()\n",
    "\n",
    "if \"engagement rate\" not in df.columns:\n",
    "    df[\"engagement rate\"] = df[\"engagements\"] / df[\"impressions\"]\n",
    "\n",
    "task1 = df[\n",
    "    (df[\"replies\"] > 10) &\n",
    "    (df[\"Word_Count\"] > 50) &\n",
    "    (df[\"Day\"] % 2 != 0) &  # Odd date\n",
    "    (df[\"Hour\"].between(18, 23)) &  # 6 PM – 11 PM\n",
    "    (df[\"engagement rate\"] > 0.05)\n",
    "][[\"Tweet\", \"media engagements\", \"media views\", \"replies\", \"engagement rate\", \"Word_Count\", \"time\"]]\n",
    "\n",
    "print(\"✅ TASK 1 DATA READY:\", task1.shape)"
   ]
  },
  {
   "cell_type": "code",
   "execution_count": 27,
   "id": "b6f5d2a3-af94-4c34-82b7-8e74b12483e9",
   "metadata": {},
   "outputs": [
    {
     "name": "stdout",
     "output_type": "stream",
     "text": [
      "✅ TASK 2 DATA READY: (0, 6)\n"
     ]
    }
   ],
   "source": [
    "task2 = df[\n",
    "    ((df[\"url clicks\"] > 0) | (df[\"user profile clicks\"] > 0) | (df[\"hashtag clicks\"] > 0)) &\n",
    "    (df[\"Word_Count\"] > 40) &\n",
    "    (df[\"Day\"] % 2 == 0) &  # Even date\n",
    "    (df[\"Hour\"].between(15, 17))  # 3 PM – 5 PM\n",
    "][[\"Tweet\", \"url clicks\", \"user profile clicks\", \"hashtag clicks\", \"time\", \"Word_Count\"]]\n",
    "\n",
    "print(\"✅ TASK 2 DATA READY:\", task2.shape)\n",
    "\n",
    "df[\"Retweets_Likes_Sum\"] = df[\"retweets\"] + df[\"likes\"]"
   ]
  },
  {
   "cell_type": "code",
   "execution_count": 47,
   "id": "2d31f4f9-d93f-4b57-a8fa-90818bf29d0d",
   "metadata": {},
   "outputs": [
    {
     "name": "stdout",
     "output_type": "stream",
     "text": [
      "✅ TASK 3 FIXED DATA READY: (10, 4)\n"
     ]
    }
   ],
   "source": [
    "df.columns = [c.strip().lower().replace(\" \", \"_\") for c in df.columns]\n",
    "\n",
    "required_cols = [\"retweets\", \"likes\", \"impressions\", \"time\", \"tweet\"]\n",
    "for col in required_cols:\n",
    "    if col not in df.columns:\n",
    "        print(f\"⚠️ Missing column: {col}\")\n",
    "\n",
    "for col in [\"retweets\", \"likes\", \"impressions\"]:\n",
    "    df[col] = pd.to_numeric(df[col], errors=\"coerce\").fillna(0)\n",
    "\n",
    "df[\"retweets_likes_sum\"] = df[\"retweets\"] + df[\"likes\"]\n",
    "df[\"hour\"] = df[\"time\"].dt.hour\n",
    "df[\"day\"] = df[\"time\"].dt.day\n",
    "df[\"weekday\"] = df[\"time\"].dt.day_name()\n",
    "df[\"word_count\"] = df[\"tweet\"].apply(lambda x: len(str(x).split()))\n",
    "\n",
    "task3 = df[\n",
    "    (~df[\"weekday\"].isin([\"Saturday\", \"Sunday\"])) & \n",
    "    (df[\"impressions\"] % 2 == 0) &                   \n",
    "    (df[\"day\"] % 2 != 0) &                           \n",
    "    (df[\"word_count\"] < 30) &                       \n",
    "    (df[\"hour\"].between(15, 17))                    \n",
    "].sort_values(\"retweets_likes_sum\", ascending=False).head(10)\n",
    "\n",
    "cols_to_show = [col for col in [\"tweet\", \"retweets_likes_sum\", \"time\", \"user_profile\", \"word_count\"] if col in df.columns]\n",
    "task3 = task3[cols_to_show]\n",
    "\n",
    "print(\"✅ TASK 3 FIXED DATA READY:\", task3.shape)"
   ]
  },
  {
   "cell_type": "code",
   "execution_count": 49,
   "id": "1905a637-a37e-44e8-97a3-e32e68f3d466",
   "metadata": {},
   "outputs": [
    {
     "name": "stdout",
     "output_type": "stream",
     "text": [
      "✅ Task 4 completed: (5, 2)\n"
     ]
    }
   ],
   "source": [
    "task4 = df[\n",
    "    (df.get(\"engagements\", 0) % 2 == 0) &\n",
    "    (df[\"day\"] % 2 != 0) &\n",
    "    (df[\"char_count\"] > 20) &\n",
    "    (df[\"hour\"].between(7, 11) | df[\"hour\"].between(15, 17))\n",
    "].copy()\n",
    "\n",
    "task4[\"tweet_cleaned\"] = task4[\"tweet\"].apply(lambda x: \" \".join([w for w in str(x).split() if \"c\" not in w.lower()]))\n",
    "\n",
    "if \"has_media\" in task4.columns:\n",
    "    task4 = task4.groupby([task4[\"time\"].dt.month, \"has_media\"])[\"engagement_rate\"].mean().reset_index()\n",
    "    task4.columns = [\"month\", \"has_media\", \"avg_engagement_rate\"]\n",
    "else:\n",
    "    task4 = task4.groupby(task4[\"time\"].dt.month)[\"engagement_rate\"].mean().reset_index()\n",
    "    task4.columns = [\"month\", \"avg_engagement_rate\"]\n",
    "\n",
    "print(\"✅ Task 4 completed:\", task4.shape)"
   ]
  },
  {
   "cell_type": "code",
   "execution_count": 52,
   "id": "4abe86fd-95af-482d-bcbc-d480af5031d8",
   "metadata": {},
   "outputs": [
    {
     "name": "stdout",
     "output_type": "stream",
     "text": [
      "✅ Task 5 completed: (22, 5)\n"
     ]
    }
   ],
   "source": [
    "median_media_eng = df[\"media_engagements\"].median() if \"media_engagements\" in df.columns else 0\n",
    "\n",
    "task5 = df[\n",
    "    (df.get(\"media_engagements\", 0) > median_media_eng) &\n",
    "    (df[\"month\"].between(6, 8)) &\n",
    "    (df[\"day\"] % 2 != 0) &\n",
    "    (df.get(\"media_views\", 0) % 2 == 0) &\n",
    "    (df[\"char_count\"] > 20) &\n",
    "    (df[\"hour\"].between(7, 11) | df[\"hour\"].between(15, 17))\n",
    "].copy()\n",
    "\n",
    "task5[\"tweet_cleaned\"] = task5[\"tweet\"].apply(lambda x: \" \".join([w for w in str(x).split() if \"s\" not in w.lower()]))\n",
    "task5 = task5[[\"tweet_cleaned\", \"replies\", \"retweets\", \"likes\", \"time\"]].copy()\n",
    "\n",
    "print(\"✅ Task 5 completed:\", task5.shape)"
   ]
  },
  {
   "cell_type": "code",
   "execution_count": 53,
   "id": "8553bfd0-8ef4-4d52-9eb0-60913af9ff23",
   "metadata": {},
   "outputs": [
    {
     "name": "stdout",
     "output_type": "stream",
     "text": [
      "✅ Task 6 completed: (1, 2)\n"
     ]
    }
   ],
   "source": [
    "task6 = df[\n",
    "    (df[\"weekday\"].isin([\"Monday\", \"Tuesday\", \"Wednesday\", \"Thursday\", \"Friday\"])) &\n",
    "    (df.get(\"impressions\", 0) % 2 == 0) &\n",
    "    (df[\"day\"] % 2 != 0) &\n",
    "    (df[\"char_count\"] > 30) &\n",
    "    (df[\"hour\"].between(7, 11) | df[\"hour\"].between(12, 18))\n",
    "].copy()\n",
    "\n",
    "task6[\"tweet_cleaned\"] = task6[\"tweet\"].apply(lambda x: \" \".join([w for w in str(x).split() if \"d\" not in w.lower()]))\n",
    "\n",
    "if \"has_app_opens\" in task6.columns:\n",
    "    task6_grouped = task6.groupby(\"has_app_opens\")[\"engagement_rate\"].mean().reset_index()\n",
    "    task6_grouped.columns = [\"has_app_opens\", \"avg_engagement_rate\"]\n",
    "else:\n",
    "    task6_grouped = task6[[\"engagement_rate\"]].mean().reset_index()\n",
    "\n",
    "print(\"✅ Task 6 completed:\", task6_grouped.shape)"
   ]
  }
 ],
 "metadata": {
  "kernelspec": {
   "display_name": "Python 3 (ipykernel)",
   "language": "python",
   "name": "python3"
  },
  "language_info": {
   "codemirror_mode": {
    "name": "ipython",
    "version": 3
   },
   "file_extension": ".py",
   "mimetype": "text/x-python",
   "name": "python",
   "nbconvert_exporter": "python",
   "pygments_lexer": "ipython3",
   "version": "3.11.7"
  }
 },
 "nbformat": 4,
 "nbformat_minor": 5
}
